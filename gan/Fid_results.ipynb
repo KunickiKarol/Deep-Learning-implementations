{
 "cells": [
  {
   "cell_type": "code",
   "execution_count": 1,
   "id": "d1b33dea",
   "metadata": {},
   "outputs": [],
   "source": [
    "arch = {0: -1.0545530915449624e+60,\n",
    " 1: 4.488127740801477e+59,\n",
    " 2: -2.0239706055050834e+65,\n",
    " 3: -2.393145036616172e+58,\n",
    " 4: 3.5336941295567687e+74,\n",
    " 5: 4.2124916667422875e+66,\n",
    " 6: 8.480865910936245e+73,\n",
    " 7: -4.7390531250850734e+66,\n",
    " 8: -4.204442255154379e+93}"
   ]
  },
  {
   "cell_type": "code",
   "execution_count": 2,
   "id": "4455bba9",
   "metadata": {},
   "outputs": [],
   "source": [
    "models = {0: 1.587665380337061e+57,\n",
    " 1: -7.548785066802179e+71,\n",
    " 2: 8189.5090676333075,\n",
    " 3: 8328.41189501782,\n",
    " 4: 6.077953902837642e+74,\n",
    " 5: 9.541194637787755e+59}"
   ]
  },
  {
   "cell_type": "code",
   "execution_count": 3,
   "id": "2468d70f",
   "metadata": {},
   "outputs": [],
   "source": [
    "losses = {0: -2.169366359749637e+61, 1: 1.7575884859082706e+59}"
   ]
  },
  {
   "cell_type": "code",
   "execution_count": 4,
   "id": "da88f219",
   "metadata": {},
   "outputs": [],
   "source": [
    "optimizer = {0: -1.398678873723025e+64,\n",
    " 1: -9.144813909497497e+70,\n",
    " 2: 6.582018229284824e+63,\n",
    " 3: 4.629362529847677e+58}"
   ]
  },
  {
   "cell_type": "code",
   "execution_count": 5,
   "id": "4b98998c",
   "metadata": {},
   "outputs": [],
   "source": [
    "latetns = {0: -1.463840854192945e+67,\n",
    " 1: 8.492383200152452e+68,\n",
    " 2: 7.231221199165456e+61,\n",
    " 3: 1.8997139640497188e+76,\n",
    " 4: 2.5108406941546723e+58}"
   ]
  },
  {
   "cell_type": "code",
   "execution_count": 6,
   "id": "e2e0072a",
   "metadata": {},
   "outputs": [],
   "source": [
    "batches = {0: -8.105446246612134e+77,\n",
    " 1: -4.3422033463993573e+76,\n",
    " 2: -3.648565383693508e+58,\n",
    " 3: 2.277576294440886e+71,\n",
    " 4: -6.00280062510776e+66}"
   ]
  },
  {
   "cell_type": "code",
   "execution_count": 7,
   "id": "e33a2390",
   "metadata": {},
   "outputs": [],
   "source": [
    "lrs = {0: -1.1827064005746168e+63,\n",
    " 1: -6.671614516603179e+75,\n",
    " 2: -7.915474850207162e+74,\n",
    " 3: 5.957012032801552e+83,\n",
    " 4: 7972.9016168492335}"
   ]
  },
  {
   "cell_type": "code",
   "execution_count": 8,
   "id": "06f16b23",
   "metadata": {},
   "outputs": [],
   "source": [
    "epochs = {0: 1.5378636851831057e+77,\n",
    " 1: 5.492464018463346e+57,\n",
    " 2: -1.6905645028648165e+79,\n",
    " 3: -1.156995391866473e+62,\n",
    " 4: -3.599541219140138e+62}"
   ]
  },
  {
   "cell_type": "code",
   "execution_count": 9,
   "id": "dfe967e0",
   "metadata": {},
   "outputs": [],
   "source": [
    "all_fids = [arch, models, losses, optimizer, latetns, batches, lrs, epochs]"
   ]
  },
  {
   "cell_type": "code",
   "execution_count": 11,
   "id": "f0203cd4",
   "metadata": {},
   "outputs": [],
   "source": [
    "słowniki = ['arch', 'models', 'losses', 'optimizer', 'latetns', 'batches', 'lrs', 'epochs']\n",
    "results = {}\n",
    "for slownik, nazwa_slownika in zip(all_fids, słowniki):\n",
    "    for key, val in slownik.items():\n",
    "        results[nazwa_slownika+str(key)] = val"
   ]
  },
  {
   "cell_type": "code",
   "execution_count": 12,
   "id": "d531fe7e",
   "metadata": {},
   "outputs": [
    {
     "data": {
      "text/plain": [
       "{'arch0': -1.0545530915449624e+60,\n",
       " 'arch1': 4.488127740801477e+59,\n",
       " 'arch2': -2.0239706055050834e+65,\n",
       " 'arch3': -2.393145036616172e+58,\n",
       " 'arch4': 3.5336941295567687e+74,\n",
       " 'arch5': 4.2124916667422875e+66,\n",
       " 'arch6': 8.480865910936245e+73,\n",
       " 'arch7': -4.7390531250850734e+66,\n",
       " 'arch8': -4.204442255154379e+93,\n",
       " 'models0': 1.587665380337061e+57,\n",
       " 'models1': -7.548785066802179e+71,\n",
       " 'models2': 8189.5090676333075,\n",
       " 'models3': 8328.41189501782,\n",
       " 'models4': 6.077953902837642e+74,\n",
       " 'models5': 9.541194637787755e+59,\n",
       " 'losses0': -2.169366359749637e+61,\n",
       " 'losses1': 1.7575884859082706e+59,\n",
       " 'optimizer0': -1.398678873723025e+64,\n",
       " 'optimizer1': -9.144813909497497e+70,\n",
       " 'optimizer2': 6.582018229284824e+63,\n",
       " 'optimizer3': 4.629362529847677e+58,\n",
       " 'latetns0': -1.463840854192945e+67,\n",
       " 'latetns1': 8.492383200152452e+68,\n",
       " 'latetns2': 7.231221199165456e+61,\n",
       " 'latetns3': 1.8997139640497188e+76,\n",
       " 'latetns4': 2.5108406941546723e+58,\n",
       " 'batches0': -8.105446246612134e+77,\n",
       " 'batches1': -4.3422033463993573e+76,\n",
       " 'batches2': -3.648565383693508e+58,\n",
       " 'batches3': 2.277576294440886e+71,\n",
       " 'batches4': -6.00280062510776e+66,\n",
       " 'lrs0': -1.1827064005746168e+63,\n",
       " 'lrs1': -6.671614516603179e+75,\n",
       " 'lrs2': -7.915474850207162e+74,\n",
       " 'lrs3': 5.957012032801552e+83,\n",
       " 'lrs4': 7972.9016168492335,\n",
       " 'epochs0': 1.5378636851831057e+77,\n",
       " 'epochs1': 5.492464018463346e+57,\n",
       " 'epochs2': -1.6905645028648165e+79,\n",
       " 'epochs3': -1.156995391866473e+62,\n",
       " 'epochs4': -3.599541219140138e+62}"
      ]
     },
     "execution_count": 12,
     "metadata": {},
     "output_type": "execute_result"
    }
   ],
   "source": [
    "results"
   ]
  },
  {
   "cell_type": "code",
   "execution_count": 16,
   "id": "9d19742a",
   "metadata": {},
   "outputs": [
    {
     "name": "stdout",
     "output_type": "stream",
     "text": [
      "Najmniejsze wartości bezwzględne FID:\n",
      "lrs4: 7972.9016168492335\n",
      "models2: 8189.5090676333075\n",
      "models3: 8328.41189501782\n",
      "models0: 1.587665380337061e+57\n",
      "epochs1: 5.492464018463346e+57\n",
      "\n",
      "Największe wartości bezwzględne FID:\n",
      "arch8: -4.204442255154379e+93\n",
      "lrs3: 5.957012032801552e+83\n",
      "epochs2: -1.6905645028648165e+79\n",
      "batches0: -8.105446246612134e+77\n",
      "epochs0: 1.5378636851831057e+77\n"
     ]
    }
   ],
   "source": [
    "najmniejsze = dict(sorted(results.items(), key=lambda item: abs(item[1]))[:5])\n",
    "\n",
    "# Znajdź 5 kluczy z największymi wartościami bezwzględnymi\n",
    "najwieksze = dict(sorted(results.items(), key=lambda item: abs(item[1]), reverse=True)[:5])\n",
    "\n",
    "# Wypisz wyniki\n",
    "print(\"Najmniejsze wartości bezwzględne FID:\")\n",
    "for klucz, wartosc in najmniejsze.items():\n",
    "    print(f\"{klucz}: {wartosc}\")\n",
    "\n",
    "print(\"\\nNajwiększe wartości bezwzględne FID:\")\n",
    "for klucz, wartosc in najwieksze.items():\n",
    "    print(f\"{klucz}: {wartosc}\")"
   ]
  },
  {
   "cell_type": "code",
   "execution_count": null,
   "id": "0216f704",
   "metadata": {},
   "outputs": [],
   "source": []
  }
 ],
 "metadata": {
  "kernelspec": {
   "display_name": "Python 3 (ipykernel)",
   "language": "python",
   "name": "python3"
  },
  "language_info": {
   "codemirror_mode": {
    "name": "ipython",
    "version": 3
   },
   "file_extension": ".py",
   "mimetype": "text/x-python",
   "name": "python",
   "nbconvert_exporter": "python",
   "pygments_lexer": "ipython3",
   "version": "3.8.18"
  }
 },
 "nbformat": 4,
 "nbformat_minor": 5
}

{
 "cells": [
  {
   "cell_type": "code",
   "execution_count": null,
   "metadata": {},
   "outputs": [],
   "source": [
    "import os\n",
    "\n",
    "import cv2\n",
    "import matplotlib.pyplot as plt\n",
    "import numpy as np\n",
    "import seaborn as sns\n",
    "\n",
    "import shutil\n",
    "import torch\n",
    "import torch.nn as nn\n",
    "import torch.nn.functional as F\n",
    "import torchvision.transforms as tt\n",
    "import json\n",
    "import plotly.express as px\n",
    "import plotly.subplots\n",
    "import plotly.graph_objs as go\n",
    "import pandas as pd\n",
    "from sklearn.manifold import TSNE\n",
    "from sklearn.decomposition import PCA\n",
    "\n",
    "from torch.utils.data import DataLoader\n",
    "from torchvision.datasets import ImageFolder\n",
    "from torchvision.utils import make_grid\n",
    "from torchvision.utils import save_image\n",
    "from tqdm.notebook import tqdm\n",
    "import torchvision.datasets as datasets\n",
    "import torchvision.transforms as transforms\n",
    "from PIL import Image\n",
    "import ast\n",
    "from utils.plots import *\n",
    "from utils.train import *"
   ]
  },
  {
   "cell_type": "code",
   "execution_count": null,
   "metadata": {},
   "outputs": [],
   "source": [
    "%matplotlib inline"
   ]
  },
  {
   "cell_type": "code",
   "execution_count": null,
   "metadata": {},
   "outputs": [],
   "source": [
    "df = pd.read_json('logs.json', lines =  True)\n",
    "device = torch.device('cuda') if torch.cuda.is_available() else torch.device('cpu')"
   ]
  },
  {
   "cell_type": "code",
   "execution_count": null,
   "metadata": {},
   "outputs": [],
   "source": [
    "\"\"\"train_X, train_Y = get_data(\"train\") \n",
    "test_X, test_Y = get_data('test')\n",
    "data = train_X, train_Y, test_X, test_Y\"\"\""
   ]
  },
  {
   "cell_type": "code",
   "execution_count": null,
   "metadata": {},
   "outputs": [],
   "source": [
    "def short_title(title):\n",
    "    if len(str(title)) > 20:\n",
    "        title = title.split(' ')\n",
    "        title = title[0]\n",
    "        title = title[1:]\n",
    "    return title"
   ]
  },
  {
   "cell_type": "code",
   "execution_count": null,
   "metadata": {},
   "outputs": [],
   "source": [
    "df.iloc[0]['train_losses_epoches']"
   ]
  },
  {
   "cell_type": "code",
   "execution_count": null,
   "metadata": {},
   "outputs": [],
   "source": [
    "model_list = ['xlm-roberta-base', 'xlm-roberta-large', 'bert-base-uncased', 'roberta-base', 'roberta-large']"
   ]
  },
  {
   "cell_type": "code",
   "execution_count": null,
   "metadata": {},
   "outputs": [],
   "source": [
    "def plot(df, exp_title, column_to_check, exp_list=False):\n",
    "    filtered_df = df[df['exp_title'] == exp_title]\n",
    "    fig = plotly.subplots.make_subplots(rows=4, \n",
    "                                        cols=2, \n",
    "                                        subplot_titles=['train_losses_avg', \n",
    "                                                        'valid_losses_avg', \n",
    "                                                        'train_losses_epoches', \n",
    "                                                        'valid_losses_epoches'\n",
    "                                                        ])\n",
    "\n",
    "    columns = ['train_losses_avg', 'valid_losses_avg', 'train_losses_epoches', 'valid_losses_epoches']\n",
    "    \n",
    "    # Define a colormap for unique colors for each trace\n",
    "  \n",
    "    filtered_df[column_to_check] = filtered_df[column_to_check].astype(str)\n",
    "    num_traces = len(filtered_df)\n",
    "    if num_traces > 10:\n",
    "        colorscale = px.colors.qualitative.Alphabet[:num_traces] \n",
    "        colorscale.extend(colorscale)\n",
    "    else:\n",
    "        colorscale = px.colors.qualitative.Plotly[:num_traces]\n",
    "        colorscale.extend(colorscale) \n",
    "    for i, column in enumerate(columns):\n",
    "        fig.update_xaxes(title_text='Epoch', row=i%4+1, col=i%2+1)\n",
    "        fig.update_yaxes(title_text=column, row=i%4+1, col=i%2+1)\n",
    "        if exp_list:\n",
    "            exp_counter = 0\n",
    "        \n",
    "        for index, (row_index, row) in enumerate(filtered_df.iterrows(), start=0):\n",
    "            trace_color = colorscale[index]\n",
    "            y_values = row[column]\n",
    "            if type(y_values) is str:\n",
    "                y_values = ast.literal_eval(y_values)\n",
    "            \n",
    "            if exp_list:\n",
    "                \n",
    "                fig.add_trace(go.Scatter(x=list(range(len(row[column]))), \n",
    "                                         y=y_values,\n",
    "                                         mode='lines', \n",
    "                                         name=f'{short_title(exp_list[exp_counter])}',\n",
    "                                         line=dict(color=trace_color),\n",
    "                                         legendgroup=row['pretrained_model_name']+row['model_type']+'_'+exp_list[exp_counter]), \n",
    "                              row=i//2+1, \n",
    "                              col=i%2+1)\n",
    "                exp_counter += 1\n",
    "            else:\n",
    "                fig.add_trace(go.Scatter(x=list(range(len(row[column]))), \n",
    "                                         y=y_values,\n",
    "                                         mode='lines', \n",
    "                                         name=f\"{row['pretrained_model_name']}{row['model_type']} {short_title(row[column_to_check])}\",\n",
    "                                         line=dict(color=trace_color),\n",
    "                                         legendgroup=row['pretrained_model_name']+row['model_type']+'_'+row[column_to_check]), \n",
    "                              row=i//2+1, \n",
    "                              col=i%2+1)\n",
    "                \n",
    "    names = set()\n",
    "    fig.for_each_trace(\n",
    "        lambda trace:\n",
    "            trace.update(showlegend=False)\n",
    "            if (trace.name in names) else names.add(trace.name))\n",
    "    \n",
    "    \n",
    "    fig.update_layout(\n",
    "        title_text=f'Exp Title: {exp_title}',\n",
    "        width=1000,  \n",
    "        height=1000  \n",
    "    )\n",
    "    \n",
    "    if exp_list:\n",
    "        filtered_df['true_labels'] = exp_list\n",
    "        bar_fig = px.bar(filtered_df, x='true_labels', y='execution_time', color='pretrained_model_name', title=f'Time {short_title(column_to_check)}')\n",
    "    else:\n",
    "        bar_fig = px.bar(filtered_df, x=column_to_check, y='execution_time',facet_col='pretrained_model_name', facet_col_wrap=1, title=f'Time {short_title(column_to_check)}')\n",
    "\n",
    "    fig.show()\n",
    "    bar_fig.show()"
   ]
  },
  {
   "cell_type": "code",
   "execution_count": null,
   "metadata": {},
   "outputs": [],
   "source": [
    "from importlib import reload\n",
    "import utils.plots\n",
    "\n",
    "reload(utils.plots)\n",
    "from utils.plots import *"
   ]
  },
  {
   "cell_type": "markdown",
   "metadata": {},
   "source": [
    "# Test lr"
   ]
  },
  {
   "cell_type": "code",
   "execution_count": null,
   "metadata": {},
   "outputs": [],
   "source": [
    "exp_title = 'test_lr_stable'\n",
    "tmp_df = df[df['exp_title'] == exp_title]\n",
    "scores = [(f'{pretrained_name}_{model_name}_{lr}', x['weighted avg']['f1-score']) for pretrained_name, model_name, x, lr in tmp_df[['pretrained_model_name', 'model_type', 'report', 'lr']].values]\n",
    "max_lengths = list(tmp_df['max_length'])\n",
    "paddings = list(tmp_df['padding'])\n",
    "truncations = list(tmp_df['truncation'])\n",
    "batch_sizes = list(tmp_df['batch_size'])\n",
    "plots_names = [f'{pretrained_name}_{model_name}_{lr}' for pretrained_name, model_name, lr in tmp_df[['pretrained_model_name', 'model_type', 'lr']].values]\n"
   ]
  },
  {
   "cell_type": "markdown",
   "metadata": {},
   "source": [
    "## Plot"
   ]
  },
  {
   "cell_type": "code",
   "execution_count": null,
   "metadata": {},
   "outputs": [],
   "source": [
    "plot(df, exp_title, 'lr')"
   ]
  },
  {
   "cell_type": "markdown",
   "metadata": {},
   "source": [
    "## PCA"
   ]
  },
  {
   "cell_type": "code",
   "execution_count": null,
   "metadata": {},
   "outputs": [],
   "source": [
    "model_transform =  PCA(n_components=2)\n",
    "generator = load_models_gen(exp_title, model_list, device)\n",
    "\n",
    "plot_latent_multi_gen(models_gen=generator, device=device, \n",
    "                  transform_model=model_transform, test=True, max_lengths=max_lengths, paddings=paddings,\n",
    "                      truncations=truncations, batch_sizes=batch_sizes, rep_idx=0, true_scores=scores, plots_names=plots_names, num_batches=10)"
   ]
  },
  {
   "cell_type": "markdown",
   "metadata": {},
   "source": [
    "## TSNE 2"
   ]
  },
  {
   "cell_type": "code",
   "execution_count": null,
   "metadata": {},
   "outputs": [],
   "source": [
    "model_transform = TSNE(n_components=2, random_state=0)\n",
    "generator = load_models_gen(exp_title, model_list, device)\n",
    "\n",
    "plot_latent_multi_gen(generator, device, \n",
    "                  model_transform, test=False, max_lengths=max_lengths, paddings=paddings,\n",
    "                      truncations=truncations, batch_sizes=batch_sizes, rep_idx=2, true_scores=scores, plots_names=plots_names, num_batches=10)\n"
   ]
  },
  {
   "cell_type": "markdown",
   "metadata": {},
   "source": [
    "# Test padding"
   ]
  },
  {
   "cell_type": "code",
   "execution_count": null,
   "metadata": {},
   "outputs": [],
   "source": [
    "exp_title = 'test_padding'\n",
    "tmp_df = df[df['exp_title'] == exp_title]\n",
    "scores = [(f'{pretrained_name}_{model_name}_{lr}', x['weighted avg']['f1-score']) for pretrained_name, model_name, x, lr in tmp_df[['pretrained_model_name', 'model_type', 'report', 'padding']].values]\n",
    "max_lengths = list(tmp_df['max_length'])\n",
    "paddings = list(tmp_df['padding'])\n",
    "truncations = list(tmp_df['truncation'])\n",
    "batch_sizes = list(tmp_df['batch_size'])\n",
    "plots_names = [f'{pretrained_name}_{model_name}_{lr}' for pretrained_name, model_name, lr in tmp_df[['pretrained_model_name', 'model_type', 'padding']].values]"
   ]
  },
  {
   "cell_type": "code",
   "execution_count": null,
   "metadata": {},
   "outputs": [],
   "source": [
    "plots_names"
   ]
  },
  {
   "cell_type": "markdown",
   "metadata": {},
   "source": [
    "## Plot"
   ]
  },
  {
   "cell_type": "code",
   "execution_count": null,
   "metadata": {},
   "outputs": [],
   "source": [
    "plot(df, exp_title, 'padding')"
   ]
  },
  {
   "cell_type": "markdown",
   "metadata": {},
   "source": [
    "## PCA"
   ]
  },
  {
   "cell_type": "code",
   "execution_count": null,
   "metadata": {},
   "outputs": [],
   "source": [
    "model_transform =  PCA(n_components=2)\n",
    "generator = load_models_gen(exp_title, model_list, device)\n",
    "\n",
    "plot_latent_multi_gen(generator, device, \n",
    "                  model_transform, test=True, max_lengths=max_lengths, paddings=paddings,\n",
    "                      truncations=truncations, batch_sizes=batch_sizes, rep_idx=0, true_scores=scores,plots_names=plots_names, num_batches=10)"
   ]
  },
  {
   "cell_type": "markdown",
   "metadata": {},
   "source": [
    "## TSNE"
   ]
  },
  {
   "cell_type": "code",
   "execution_count": null,
   "metadata": {},
   "outputs": [],
   "source": [
    "model_transform = TSNE(n_components=2, random_state=0)\n",
    "generator = load_models_gen(exp_title, model_list, device)\n",
    "\n",
    "plot_latent_multi_gen(generator, device, \n",
    "                  model_transform, test=False, max_lengths=max_lengths, paddings=paddings,\n",
    "                      truncations=truncations, batch_sizes=batch_sizes, rep_idx=0, true_scores=scores,plots_names=plots_names, num_batches=10)\n"
   ]
  },
  {
   "cell_type": "markdown",
   "metadata": {},
   "source": [
    "# Test max_len"
   ]
  },
  {
   "cell_type": "code",
   "execution_count": null,
   "metadata": {},
   "outputs": [],
   "source": [
    "exp_title = 'test_len'\n",
    "tmp_df = df[df['exp_title'] == exp_title]\n",
    "scores = [(f'{pretrained_name}_{model_name}_{lr}', x['weighted avg']['f1-score']) for pretrained_name, model_name, x, lr in tmp_df[['pretrained_model_name', 'model_type', 'report', 'max_length']].values]\n",
    "max_lengths = list(tmp_df['max_length'])\n",
    "paddings = list(tmp_df['padding'])\n",
    "truncations = list(tmp_df['truncation'])\n",
    "batch_sizes = list(tmp_df['batch_size'])\n",
    "plots_names = [f'{pretrained_name}_{model_name}_{lr}' for pretrained_name, model_name, lr in tmp_df[['pretrained_model_name', 'model_type', 'max_length']].values]\n"
   ]
  },
  {
   "cell_type": "markdown",
   "metadata": {},
   "source": [
    "## Plot"
   ]
  },
  {
   "cell_type": "code",
   "execution_count": null,
   "metadata": {},
   "outputs": [],
   "source": [
    "plot(df, exp_title, 'max_length')"
   ]
  },
  {
   "cell_type": "markdown",
   "metadata": {},
   "source": [
    "## PCA"
   ]
  },
  {
   "cell_type": "code",
   "execution_count": null,
   "metadata": {},
   "outputs": [],
   "source": [
    "model_transform =  PCA(n_components=2)\n",
    "generator = load_models_gen(exp_title, model_list, device)\n",
    "\n",
    "plot_latent_multi_gen(generator, device, \n",
    "                  model_transform, test=True, max_lengths=max_lengths, paddings=paddings,\n",
    "                      truncations=truncations, batch_sizes=batch_sizes, rep_idx=0, true_scores=scores,plots_names=plots_names, num_batches=10)"
   ]
  },
  {
   "cell_type": "markdown",
   "metadata": {},
   "source": [
    "## TSNE"
   ]
  },
  {
   "cell_type": "code",
   "execution_count": null,
   "metadata": {},
   "outputs": [],
   "source": [
    "model_transform = TSNE(n_components=2, random_state=0)\n",
    "generator = load_models_gen(exp_title, model_list, device)\n",
    "\n",
    "plot_latent_multi_gen(generator, device, \n",
    "                  model_transform, test=False, max_lengths=max_lengths, paddings=paddings,\n",
    "                      truncations=truncations, batch_sizes=batch_sizes, rep_idx=0, true_scores=scores,plots_names=plots_names, num_batches=10)\n"
   ]
  },
  {
   "cell_type": "markdown",
   "metadata": {},
   "source": [
    "# Test extensions"
   ]
  },
  {
   "cell_type": "code",
   "execution_count": null,
   "metadata": {},
   "outputs": [],
   "source": [
    "exp_title = 'test_ext3'\n",
    "tmp_df = df[df['exp_title'] == exp_title]\n",
    "scores = [(f'{pretrained_name}_{model_name}', x['weighted avg']['f1-score']) for pretrained_name, model_name, x in tmp_df[['pretrained_model_name', 'model_type', 'report']].values]\n",
    "max_lengths = list(tmp_df['max_length'])\n",
    "paddings = list(tmp_df['padding'])\n",
    "truncations = list(tmp_df['truncation'])\n",
    "batch_sizes = list(tmp_df['batch_size'])\n",
    "plots_names = [f'{pretrained_name}_{model_name}' for pretrained_name, model_name in tmp_df[['pretrained_model_name', 'model_type']].values]\n"
   ]
  },
  {
   "cell_type": "markdown",
   "metadata": {},
   "source": [
    "## Plot"
   ]
  },
  {
   "cell_type": "code",
   "execution_count": null,
   "metadata": {},
   "outputs": [],
   "source": [
    "plot(df, exp_title, 'model_type')"
   ]
  },
  {
   "cell_type": "markdown",
   "metadata": {},
   "source": [
    "## PCA"
   ]
  },
  {
   "cell_type": "code",
   "execution_count": null,
   "metadata": {},
   "outputs": [],
   "source": [
    "model_transform =  PCA(n_components=2)\n",
    "generator = load_models_gen(exp_title, model_list, device)\n",
    "\n",
    "plot_latent_multi_gen(generator, device, \n",
    "                  model_transform, test=True, max_lengths=max_lengths, paddings=paddings,\n",
    "                      truncations=truncations, batch_sizes=batch_sizes, rep_idx=2, true_scores=scores,plots_names=plots_names, num_batches=10)"
   ]
  },
  {
   "cell_type": "code",
   "execution_count": null,
   "metadata": {},
   "outputs": [],
   "source": [
    "model_transform =  PCA(n_components=2)\n",
    "generator = load_models_gen(exp_title, model_list, device)\n",
    "\n",
    "plot_latent_multi_gen(generator, device, \n",
    "                  model_transform, test=True, max_lengths=max_lengths, paddings=paddings,\n",
    "                      truncations=truncations, batch_sizes=batch_sizes, rep_idx=1, true_scores=scores,plots_names=plots_names, num_batches=10)"
   ]
  },
  {
   "cell_type": "code",
   "execution_count": null,
   "metadata": {},
   "outputs": [],
   "source": [
    "model_transform =  PCA(n_components=2)\n",
    "generator = load_models_gen(exp_title, model_list, device)\n",
    "\n",
    "plot_latent_multi_gen(generator, device, \n",
    "                  model_transform, test=True, max_lengths=max_lengths, paddings=paddings,\n",
    "                      truncations=truncations, batch_sizes=batch_sizes, rep_idx=0, true_scores=scores,plots_names=plots_names, num_batches=10)"
   ]
  },
  {
   "cell_type": "markdown",
   "metadata": {},
   "source": [
    "## TSNE"
   ]
  },
  {
   "cell_type": "code",
   "execution_count": null,
   "metadata": {},
   "outputs": [],
   "source": [
    "model_transform = TSNE(n_components=2, random_state=0)\n",
    "generator = load_models_gen(exp_title, model_list, device)\n",
    "\n",
    "plot_latent_multi_gen(generator, device, \n",
    "                  model_transform, test=False, max_lengths=max_lengths, paddings=paddings,\n",
    "                      truncations=truncations, batch_sizes=batch_sizes, rep_idx=0, true_scores=scores,plots_names=plots_names, num_batches=10)\n"
   ]
  },
  {
   "cell_type": "markdown",
   "metadata": {},
   "source": [
    "# Test optimizer"
   ]
  },
  {
   "cell_type": "code",
   "execution_count": null,
   "metadata": {},
   "outputs": [],
   "source": [
    "exp_title = 'test_optimizer'\n",
    "tmp_df = df[df['exp_title'] == exp_title]\n",
    "scores = [(f'{pretrained_name}_{model_name}_{lr.split(\" \")[0]}', x['weighted avg']['f1-score']) for pretrained_name, model_name, x, lr in tmp_df[['pretrained_model_name', 'model_type', 'report', 'optimizer']].values]\n",
    "max_lengths = list(tmp_df['max_length'])\n",
    "paddings = list(tmp_df['padding'])\n",
    "truncations = list(tmp_df['truncation'])\n",
    "batch_sizes = list(tmp_df['batch_size'])\n",
    "plots_names = [f'{pretrained_name}_{model_name}_{lr.split(\" \")[0]}' for pretrained_name, model_name, lr in tmp_df[['pretrained_model_name', 'model_type', 'optimizer']].values]\n"
   ]
  },
  {
   "cell_type": "markdown",
   "metadata": {},
   "source": [
    "## Plot"
   ]
  },
  {
   "cell_type": "code",
   "execution_count": null,
   "metadata": {},
   "outputs": [],
   "source": [
    "plot(df, exp_title, 'optimizer')"
   ]
  },
  {
   "cell_type": "markdown",
   "metadata": {},
   "source": [
    "## PCA"
   ]
  },
  {
   "cell_type": "code",
   "execution_count": null,
   "metadata": {},
   "outputs": [],
   "source": [
    "model_transform =  PCA(n_components=2)\n",
    "generator = load_models_gen(exp_title, model_list, device)\n",
    "\n",
    "plot_latent_multi_gen(generator, device, \n",
    "                  model_transform, test=True, max_lengths=max_lengths, paddings=paddings,\n",
    "                      truncations=truncations, batch_sizes=batch_sizes, rep_idx=0, true_scores=scores,plots_names=plots_names, num_batches=10)"
   ]
  },
  {
   "cell_type": "markdown",
   "metadata": {},
   "source": [
    "## TSNE"
   ]
  },
  {
   "cell_type": "code",
   "execution_count": null,
   "metadata": {},
   "outputs": [],
   "source": [
    "model_transform = TSNE(n_components=2, random_state=0)\n",
    "generator = load_models_gen(exp_title, model_list, device)\n",
    "\n",
    "plot_latent_multi_gen(generator, device, \n",
    "                  model_transform, test=False, max_lengths=max_lengths, paddings=paddings,\n",
    "                      truncations=truncations, batch_sizes=batch_sizes, rep_idx=0, true_scores=scores,plots_names=plots_names, num_batches=10)\n"
   ]
  },
  {
   "cell_type": "markdown",
   "metadata": {},
   "source": [
    "# Test batch"
   ]
  },
  {
   "cell_type": "code",
   "execution_count": null,
   "metadata": {},
   "outputs": [],
   "source": [
    "exp_title = 'test_batch'\n",
    "tmp_df = df[df['exp_title'] == exp_title]\n",
    "scores = [(f'{pretrained_name}_{model_name}_{lr}', x['weighted avg']['f1-score']) for pretrained_name, model_name, x, lr in tmp_df[['pretrained_model_name', 'model_type', 'report', 'batch_size']].values]\n",
    "max_lengths = list(tmp_df['max_length'])\n",
    "paddings = list(tmp_df['padding'])\n",
    "truncations = list(tmp_df['truncation'])\n",
    "batch_sizes = list(tmp_df['batch_size'])\n",
    "plots_names = [f'{pretrained_name}_{model_name}_{lr}' for pretrained_name, model_name, lr in tmp_df[['pretrained_model_name', 'model_type', 'batch_size']].values]\n"
   ]
  },
  {
   "cell_type": "markdown",
   "metadata": {},
   "source": [
    "## Plot"
   ]
  },
  {
   "cell_type": "code",
   "execution_count": null,
   "metadata": {},
   "outputs": [],
   "source": [
    "plot(df, exp_title, 'batch_size')"
   ]
  },
  {
   "cell_type": "markdown",
   "metadata": {},
   "source": [
    "## PCA"
   ]
  },
  {
   "cell_type": "code",
   "execution_count": null,
   "metadata": {},
   "outputs": [],
   "source": [
    "model_transform =  PCA(n_components=2)\n",
    "generator = load_models_gen(exp_title, model_list, device)\n",
    "\n",
    "plot_latent_multi_gen(generator, device, \n",
    "                  model_transform, test=True, max_lengths=max_lengths, paddings=paddings,\n",
    "                      truncations=truncations, batch_sizes=batch_sizes, rep_idx=0, true_scores=scores,plots_names=plots_names, num_batches=10)"
   ]
  },
  {
   "cell_type": "markdown",
   "metadata": {},
   "source": [
    "## TSNE"
   ]
  },
  {
   "cell_type": "code",
   "execution_count": null,
   "metadata": {},
   "outputs": [],
   "source": [
    "model_transform = TSNE(n_components=2, random_state=0)\n",
    "generator = load_models_gen(exp_title, model_list, device)\n",
    "\n",
    "plot_latent_multi_gen(generator, device, \n",
    "                  model_transform, test=False, max_lengths=max_lengths, paddings=paddings,\n",
    "                      truncations=truncations, batch_sizes=batch_sizes, rep_idx=0, true_scores=scores,plots_names=plots_names, num_batches=10)\n"
   ]
  },
  {
   "cell_type": "markdown",
   "metadata": {},
   "source": [
    "# Test epoches"
   ]
  },
  {
   "cell_type": "code",
   "execution_count": null,
   "metadata": {},
   "outputs": [],
   "source": [
    "exp_title = 'test_epochs'\n",
    "tmp_df = df[df['exp_title'] == exp_title]\n",
    "scores = [(f'{pretrained_name}_{model_name}_{lr}', x['weighted avg']['f1-score']) for pretrained_name, model_name, x, lr in tmp_df[['pretrained_model_name', 'model_type', 'report', 'epochs']].values]\n",
    "max_lengths = list(tmp_df['max_length'])\n",
    "paddings = list(tmp_df['padding'])\n",
    "truncations = list(tmp_df['truncation'])\n",
    "batch_sizes = list(tmp_df['batch_size'])\n",
    "plots_names = [f'{pretrained_name}_{model_name}_{lr}' for pretrained_name, model_name, lr in tmp_df[['pretrained_model_name', 'model_type', 'epochs']].values]\n"
   ]
  },
  {
   "cell_type": "markdown",
   "metadata": {},
   "source": [
    "## Plot"
   ]
  },
  {
   "cell_type": "code",
   "execution_count": null,
   "metadata": {},
   "outputs": [],
   "source": [
    "plot(df, exp_title, 'epochs')"
   ]
  },
  {
   "cell_type": "markdown",
   "metadata": {},
   "source": [
    "## PCA"
   ]
  },
  {
   "cell_type": "code",
   "execution_count": null,
   "metadata": {},
   "outputs": [],
   "source": [
    "model_transform =  PCA(n_components=2)\n",
    "generator = load_models_gen(exp_title, model_list, device)\n",
    "\n",
    "plot_latent_multi_gen(generator, device, \n",
    "                  model_transform, test=True, max_lengths=max_lengths, paddings=paddings,\n",
    "                      truncations=truncations, batch_sizes=batch_sizes, rep_idx=0, true_scores=scores,plots_names=plots_names, num_batches=10)"
   ]
  },
  {
   "cell_type": "markdown",
   "metadata": {},
   "source": [
    "## TSNE"
   ]
  },
  {
   "cell_type": "code",
   "execution_count": null,
   "metadata": {},
   "outputs": [],
   "source": [
    "model_transform = TSNE(n_components=2, random_state=0)\n",
    "generator = load_models_gen(exp_title, model_list, device)\n",
    "\n",
    "plot_latent_multi_gen(generator, device, \n",
    "                  model_transform, test=False, max_lengths=max_lengths, paddings=paddings,\n",
    "                      truncations=truncations, batch_sizes=batch_sizes, rep_idx=0, true_scores=scores,plots_names=plots_names, num_batches=10)\n"
   ]
  },
  {
   "cell_type": "markdown",
   "metadata": {},
   "source": [
    "# Test lr_stable"
   ]
  },
  {
   "cell_type": "code",
   "execution_count": null,
   "metadata": {},
   "outputs": [],
   "source": [
    "exp_title = 'test_lr_unstable'\n",
    "tmp_df = df[df['exp_title'] == exp_title]\n",
    "scores = [(f'{pretrained_name}_{model_name}_{lr}', x['weighted avg']['f1-score']) for pretrained_name, model_name, x, lr in tmp_df[['pretrained_model_name', 'model_type', 'report', 'lr']].values]\n",
    "max_lengths = list(tmp_df['max_length'])\n",
    "paddings = list(tmp_df['padding'])\n",
    "truncations = list(tmp_df['truncation'])\n",
    "batch_sizes = list(tmp_df['batch_size'])\n",
    "plots_names = [f'{pretrained_name}_{model_name}_{lr}' for pretrained_name, model_name, lr in tmp_df[['pretrained_model_name', 'model_type', 'lr']].values]\n"
   ]
  },
  {
   "cell_type": "markdown",
   "metadata": {},
   "source": [
    "## Plot"
   ]
  },
  {
   "cell_type": "code",
   "execution_count": null,
   "metadata": {},
   "outputs": [],
   "source": [
    "plot(df, exp_title, 'lr')"
   ]
  },
  {
   "cell_type": "markdown",
   "metadata": {},
   "source": [
    "## PCA"
   ]
  },
  {
   "cell_type": "code",
   "execution_count": null,
   "metadata": {},
   "outputs": [],
   "source": [
    "model_transform =  PCA(n_components=2)\n",
    "generator = load_models_gen(exp_title, model_list, device)\n",
    "\n",
    "plot_latent_multi_gen(generator, device, \n",
    "                  model_transform, test=True, max_lengths=max_lengths, paddings=paddings,\n",
    "                      truncations=truncations, batch_sizes=batch_sizes, rep_idx=0, true_scores=scores,plots_names=plots_names, num_batches=10)"
   ]
  },
  {
   "cell_type": "markdown",
   "metadata": {},
   "source": [
    "## TSNE"
   ]
  },
  {
   "cell_type": "code",
   "execution_count": null,
   "metadata": {},
   "outputs": [],
   "source": [
    "model_transform = TSNE(n_components=2, random_state=0)\n",
    "generator = load_models_gen(exp_title, model_list, device)\n",
    "\n",
    "plot_latent_multi_gen(generator, device, \n",
    "                  model_transform, test=False, max_lengths=max_lengths, paddings=paddings,\n",
    "                      truncations=truncations, batch_sizes=batch_sizes, rep_idx=0, true_scores=scores,plots_names=plots_names, num_batches=10)\n"
   ]
  }
 ],
 "metadata": {
  "kernelspec": {
   "display_name": "abc",
   "language": "python",
   "name": "python3"
  },
  "language_info": {
   "codemirror_mode": {
    "name": "ipython",
    "version": 3
   },
   "file_extension": ".py",
   "mimetype": "text/x-python",
   "name": "python",
   "nbconvert_exporter": "python",
   "pygments_lexer": "ipython3",
   "version": "3.11.5"
  }
 },
 "nbformat": 4,
 "nbformat_minor": 2
}
